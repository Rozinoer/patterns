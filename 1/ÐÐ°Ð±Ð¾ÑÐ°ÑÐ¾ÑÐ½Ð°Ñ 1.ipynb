{
 "cells": [
  {
   "cell_type": "code",
   "execution_count": 29,
   "id": "1ee012a5",
   "metadata": {},
   "outputs": [
    {
     "name": "stdout",
     "output_type": "stream",
     "text": [
      "Мск -> шоссе -> Спб\n",
      " Мск -> ............................ -> Спб\n",
      " Мск -> вокзал -> Спб\n",
      "\n"
     ]
    }
   ],
   "source": [
    "class SelfTransport:\n",
    "    def get_road(self,a,b):\n",
    "        #строит путь\n",
    "        return (f'{a} -> шоссе -> {b}\\n')\n",
    "\n",
    "class Walk:\n",
    "    def get_road(self,a,b):\n",
    "        #строит путь\n",
    "        return (f'{a} -> ............................ -> {b}\\n')\n",
    "\n",
    "class PublicTransport:\n",
    "    def get_road(self,a,b):\n",
    "        #строит путь\n",
    "        return (f'{a} -> вокзал -> {b}\\n')\n",
    "\n",
    "class Navigator:\n",
    "    def build_road(self,a,b, transport_type):\n",
    "        return(transport_type.get_road(a,b))\n",
    "\n",
    "ios = Navigator()\n",
    "print(\n",
    "    ios.build_road('Мск','Спб', SelfTransport()),\n",
    "    ios.build_road('Мск','Спб',Walk()),\n",
    "    ios.build_road('Мск','Спб',PublicTransport()))"
   ]
  },
  {
   "cell_type": "code",
   "execution_count": null,
   "id": "fcf799e4",
   "metadata": {},
   "outputs": [],
   "source": []
  }
 ],
 "metadata": {
  "kernelspec": {
   "display_name": "Python 3 (ipykernel)",
   "language": "python",
   "name": "python3"
  },
  "language_info": {
   "codemirror_mode": {
    "name": "ipython",
    "version": 3
   },
   "file_extension": ".py",
   "mimetype": "text/x-python",
   "name": "python",
   "nbconvert_exporter": "python",
   "pygments_lexer": "ipython3",
   "version": "3.9.12"
  }
 },
 "nbformat": 4,
 "nbformat_minor": 5
}
